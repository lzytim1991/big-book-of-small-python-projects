{
 "cells": [
  {
   "cell_type": "code",
   "execution_count": 11,
   "metadata": {},
   "outputs": [],
   "source": [
    "import random"
   ]
  },
  {
   "cell_type": "code",
   "execution_count": 10,
   "metadata": {},
   "outputs": [
    {
     "name": "stdout",
     "output_type": "stream",
     "text": [
      "True\n",
      "You did not provide a valid number\n",
      "You did not provide a valid 3-digit number\n",
      "You did not provide a valid 3-digit number\n",
      "You did not provide a valid number\n",
      "You did not provide a valid number\n"
     ]
    }
   ],
   "source": [
    "response = ['123', 'abc', '1', '12', 'a', 'ab']\n",
    "\n",
    "\n",
    "def validate_input(user_input):\n",
    "    try: \n",
    "        input_value = int(user_input)\n",
    "    except:\n",
    "        return 'You did not provide a valid number'\n",
    "    else:\n",
    "        if len(user_input) != 3:\n",
    "            return 'You did not provide a valid 3-digit number'\n",
    "        else:\n",
    "            return True\n",
    "\n",
    "\n",
    "for i in response:\n",
    "    print(validate_input(i))\n",
    "    "
   ]
  },
  {
   "cell_type": "code",
   "execution_count": 44,
   "metadata": {},
   "outputs": [
    {
     "name": "stdout",
     "output_type": "stream",
     "text": [
      "066\n"
     ]
    }
   ],
   "source": [
    "number_bank = ['0', '1', '2', '3', '4', '5', '6', '7', '8', '9']\n",
    "answer = None\n",
    "\n",
    "for i in range(3):\n",
    "    lucky_no = random.randint(0,9)\n",
    "    if answer is None:\n",
    "        answer = number_bank[lucky_no]\n",
    "    else:\n",
    "        answer += number_bank[lucky_no]\n",
    "\n",
    "print(answer)\n",
    "\n"
   ]
  },
  {
   "cell_type": "code",
   "execution_count": 45,
   "metadata": {},
   "outputs": [
    {
     "name": "stdout",
     "output_type": "stream",
     "text": [
      "\n",
      "I am thinking of a 3-digit number. Try to guess what it is.\n",
      "Here are some clues:\n",
      "When I say:     That means:\n",
      "    Pico        One digit is correct but in the wrong position\n",
      "    Fermi       One digit is correct and in the right position\n",
      "    Bagels      No digit is correct.\n",
      "\n",
      "I have thought of a number.\n",
      "    You have 10 guesses to get it.\n",
      "\n",
      "You did not provide a valid number\n",
      "You have entered an invalid value, please try again\n",
      "You did not provide a valid number\n",
      "You have entered an invalid value, please try again\n",
      "You did not provide a valid number\n",
      "You have entered an invalid value, please try again\n",
      "You did not provide a valid 3-digit number\n",
      "You have entered an invalid value, please try again\n"
     ]
    }
   ],
   "source": [
    "import random\n",
    "\n",
    "intro = \"\"\"\n",
    "I am thinking of a 3-digit number. Try to guess what it is.\n",
    "Here are some clues:\n",
    "When I say:     That means:\n",
    "    Pico        One digit is correct but in the wrong position\n",
    "    Fermi       One digit is correct and in the right position\n",
    "    Bagels      No digit is correct.\n",
    "\n",
    "I have thought of a number.\n",
    "    You have 10 guesses to get it.\n",
    "\"\"\"\n",
    "\n",
    "number_bank = ['0', '1', '2', '3', '4', '5', '6', '7', '8', '9']\n",
    "\n",
    "\n",
    "def main():\n",
    "\n",
    "    print(intro)\n",
    "\n",
    "    tries = 1\n",
    "    response = None\n",
    "\n",
    "    flag = False\n",
    "    while flag != True:\n",
    "        response = get_user_input(response, tries)\n",
    "        flag = validate_input(response)\n",
    "        if flag != True:\n",
    "            print(flag)\n",
    "\n",
    "\n",
    "def generate_answer():\n",
    "    # Generates an answer\n",
    "\n",
    "    answer = None\n",
    "    for i in range(3):\n",
    "        lucky_no = random.randint(0, 9)\n",
    "        if answer is None:\n",
    "            answer = number_bank[lucky_no]\n",
    "        else:\n",
    "            answer += number_bank[lucky_no]\n",
    "\n",
    "    return answer\n",
    "\n",
    "\n",
    "def get_user_input(user_input, tries):\n",
    "    # gets an input from the user\n",
    "\n",
    "    message_first = f'Guess {tries}: '\n",
    "    message_error = 'You have entered an invalid value, please try again'\n",
    "    if user_input != None:\n",
    "        print(message_error)\n",
    "\n",
    "    return input(message_first)\n",
    "\n",
    "\n",
    "def validate_input(user_input):\n",
    "    try:\n",
    "        input_value = int(user_input)\n",
    "    except:\n",
    "        return 'You did not provide a valid number'\n",
    "    else:\n",
    "        if len(user_input) != 3:\n",
    "            return 'You did not provide a valid 3-digit number'\n",
    "        else:\n",
    "            return True\n",
    "\n",
    "\n",
    "if __name__ == '__main__':\n",
    "    main()\n"
   ]
  },
  {
   "cell_type": "code",
   "execution_count": 57,
   "metadata": {},
   "outputs": [
    {
     "name": "stdout",
     "output_type": "stream",
     "text": [
      "['Fermi', 'Pico']\n"
     ]
    }
   ],
   "source": [
    "response = '242'    # 222\n",
    "answer = '226'      # 246\n",
    "hint = []\n",
    "\n",
    "for i in range(len(answer)):\n",
    "    if response[i] == answer[i]:\n",
    "        hint.append('Fermi')\n",
    "    elif response[i] in answer:\n",
    "        hint.append('Pico')\n",
    "if len(hint) == 0:\n",
    "    hint.append('Bagel')\n",
    "\n",
    "print(hint)\n",
    "        \n",
    "    \n",
    "    \n"
   ]
  },
  {
   "cell_type": "code",
   "execution_count": 73,
   "metadata": {},
   "outputs": [
    {
     "name": "stdout",
     "output_type": "stream",
     "text": [
      "['Fermi', 'Pico', 'Pico']\n"
     ]
    }
   ],
   "source": [
    "response =  '2422'    # 222\n",
    "answer =    '2236'      # 246\n",
    "hint = []\n",
    "\n",
    "for i in range(len(answer)):\n",
    "    if response[i] == answer[i]:\n",
    "        hint.append('Fermi')\n",
    "    elif response[i] in answer and response.count(response[i]) > answer.count(response[i]):\n",
    "        hint.append('Pico')\n",
    "if len(hint) == 0:\n",
    "    hint.append('Bagel')\n",
    "\n",
    "print(hint)\n",
    "\n"
   ]
  },
  {
   "cell_type": "code",
   "execution_count": 64,
   "metadata": {},
   "outputs": [
    {
     "data": {
      "text/plain": [
       "1"
      ]
     },
     "execution_count": 64,
     "metadata": {},
     "output_type": "execute_result"
    }
   ],
   "source": [
    "response.count(response[1])"
   ]
  },
  {
   "cell_type": "code",
   "execution_count": 4,
   "metadata": {},
   "outputs": [
    {
     "name": "stdout",
     "output_type": "stream",
     "text": [
      "['Fermi', 'Pico', 'Pico']\n"
     ]
    }
   ],
   "source": [
    "response = list('696')\n",
    "answer = list('609')\n",
    "answer_set = set('696')\n",
    "\n",
    "hint = []\n",
    "\n",
    "for i in answer_set:\n",
    "    locals()[f'no{i}'] = answer.count(i)\n",
    "\n",
    "for i in range(len(response)):\n",
    "    if response[i] == answer[i]:\n",
    "        hint.append('Fermi')\n",
    "    elif response[i] in answer and locals()[f'no{response[i]}'] > 0:\n",
    "        hint.append('Pico')\n",
    "        locals()[f'no{response[i]}'] -= 1\n",
    "if len(hint) == 0:\n",
    "    hint.append('Bagel')\n",
    "\n",
    "print(hint)"
   ]
  }
 ],
 "metadata": {
  "interpreter": {
   "hash": "c06ecea90290e0e2a703c88138118ffa00a980552fe399a6ce9573effcd4e290"
  },
  "kernelspec": {
   "display_name": "Python 3.8.10 ('tf_m1')",
   "language": "python",
   "name": "python3"
  },
  "language_info": {
   "codemirror_mode": {
    "name": "ipython",
    "version": 3
   },
   "file_extension": ".py",
   "mimetype": "text/x-python",
   "name": "python",
   "nbconvert_exporter": "python",
   "pygments_lexer": "ipython3",
   "version": "3.8.10"
  },
  "orig_nbformat": 4
 },
 "nbformat": 4,
 "nbformat_minor": 2
}
