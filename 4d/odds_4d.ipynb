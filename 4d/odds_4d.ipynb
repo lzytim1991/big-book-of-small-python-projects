{
 "cells": [
  {
   "cell_type": "code",
   "execution_count": 20,
   "metadata": {},
   "outputs": [
    {
     "data": {
      "text/plain": [
       "'\\nPrize           $1 Big  $1 Small\\n\\nFirst           2000    3000\\nSecond          1000    2000\\nThird            490     800\\nStarter          250       -\\nConsolation       60       -\\n'"
      ]
     },
     "execution_count": 20,
     "metadata": {},
     "output_type": "execute_result"
    }
   ],
   "source": [
    "import random\n",
    "import numpy as np\n",
    "import seaborn as sns\n",
    "from scipy.stats import t\n",
    "\n",
    "\"\"\"\n",
    "Prize           $1 Big  $1 Small\n",
    "\n",
    "First           2000    3000\n",
    "Second          1000    2000\n",
    "Third            490     800\n",
    "Starter          250       -\n",
    "Consolation       60       -\n",
    "\"\"\""
   ]
  },
  {
   "cell_type": "code",
   "execution_count": 28,
   "metadata": {},
   "outputs": [],
   "source": [
    "def generate_winning_numbers():\n",
    "    number_bank = ['0', '1', '2', '3', '4', '5', '6', '7', '8', '9']\n",
    "    list_winning_numbers = []\n",
    "\n",
    "    for i in range(23):\n",
    "        generated_num = None\n",
    "        for i in range(4):\n",
    "            lucky_no = random.randint(0, 9)\n",
    "            if generated_num is None:\n",
    "                generated_num = number_bank[lucky_no]\n",
    "            else:\n",
    "                generated_num += number_bank[lucky_no]\n",
    "        if generated_num not in list_winning_numbers:\n",
    "            list_winning_numbers.append(generated_num)\n",
    "        else:\n",
    "            pass\n",
    "\n",
    "    return list_winning_numbers\n",
    "\n",
    "earnings_list = []\n",
    "\n",
    "for i in range(1000):\n",
    "    my_number = '2809'\n",
    "    big_bet = 1\n",
    "    small_bet = 1\n",
    "    earnings = 0\n",
    "    for i in range(10000):\n",
    "        list_of_winning_numbers = generate_winning_numbers()\n",
    "        first = list_of_winning_numbers[0]\n",
    "        second = list_of_winning_numbers[1]\n",
    "        third = list_of_winning_numbers[2]\n",
    "        starter = list_of_winning_numbers[3:13]\n",
    "        consolation = list_of_winning_numbers[13:]\n",
    "\n",
    "        earnings -= big_bet\n",
    "        earnings -= small_bet\n",
    "\n",
    "        if my_number == first:\n",
    "            earnings += (big_bet * 2000) + (small_bet * 3000)\n",
    "        elif my_number == second:\n",
    "            earnings += (big_bet * 1000) + (small_bet * 2000)\n",
    "        elif my_number == third:\n",
    "            earnings += (big_bet * 490) + (small_bet * 800)\n",
    "        elif my_number in starter:\n",
    "            earnings += (big_bet * 250)\n",
    "        elif my_number in consolation:\n",
    "            earnings += (big_bet * 60)\n",
    "    earnings_list.append(earnings)\n"
   ]
  },
  {
   "cell_type": "code",
   "execution_count": 29,
   "metadata": {},
   "outputs": [
    {
     "data": {
      "text/plain": [
       "<AxesSubplot:ylabel='Count'>"
      ]
     },
     "execution_count": 29,
     "metadata": {},
     "output_type": "execute_result"
    },
    {
     "data": {
      "image/png": "[encoded data removed]",
      "text/plain": [
       "<Figure size 432x288 with 1 Axes>"
      ]
     },
     "metadata": {
      "needs_background": "light"
     },
     "output_type": "display_data"
    }
   ],
   "source": [
    "sns.histplot(earnings_list)"
   ]
  },
  {
   "cell_type": "code",
   "execution_count": 30,
   "metadata": {},
   "outputs": [
    {
     "name": "stdout",
     "output_type": "stream",
     "text": [
      "-7625.95\n",
      "-7999.596045923023 -7252.303954076977\n"
     ]
    }
   ],
   "source": [
    "result = np.array(earnings_list)\n",
    "m = result.mean()\n",
    "s = result.std()\n",
    "dof = len(result) - 1\n",
    "confidence = 0.95\n",
    "t_crit = np.abs(t.ppf((1-confidence)/2,dof))\n",
    "\n",
    "print(m)\n",
    "print(m-s*t_crit/np.sqrt(len(result)), m+s*t_crit/np.sqrt(len(result)))\n",
    "\n"
   ]
  }
 ],
 "metadata": {
  "interpreter": {
   "hash": "c06ecea90290e0e2a703c88138118ffa00a980552fe399a6ce9573effcd4e290"
  },
  "kernelspec": {
   "display_name": "Python 3.8.10 ('tf_m1')",
   "language": "python",
   "name": "python3"
  },
  "language_info": {
   "codemirror_mode": {
    "name": "ipython",
    "version": 3
   },
   "file_extension": ".py",
   "mimetype": "text/x-python",
   "name": "python",
   "nbconvert_exporter": "python",
   "pygments_lexer": "ipython3",
   "version": "3.8.10"
  },
  "orig_nbformat": 4
 },
 "nbformat": 4,
 "nbformat_minor": 2
}
